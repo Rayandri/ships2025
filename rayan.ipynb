{
 "cells": [
  {
   "cell_type": "code",
   "execution_count": 5,
   "metadata": {},
   "outputs": [
    {
     "ename": "NotFoundError",
     "evalue": "Could not find directory ships32",
     "output_type": "error",
     "traceback": [
      "\u001b[31m---------------------------------------------------------------------------\u001b[39m",
      "\u001b[31mNotFoundError\u001b[39m                             Traceback (most recent call last)",
      "\u001b[36mCell\u001b[39m\u001b[36m \u001b[39m\u001b[32mIn[5]\u001b[39m\u001b[32m, line 5\u001b[39m\n\u001b[32m      2\u001b[39m \u001b[38;5;28;01mfrom\u001b[39;00m\u001b[38;5;250m \u001b[39m\u001b[34;01mtensorflow\u001b[39;00m\u001b[34;01m.\u001b[39;00m\u001b[34;01mkeras\u001b[39;00m\u001b[38;5;250m \u001b[39m\u001b[38;5;28;01mimport\u001b[39;00m layers, models, callbacks, mixed_precision\n\u001b[32m      4\u001b[39m \u001b[38;5;66;03m# ---------- data ----------\u001b[39;00m\n\u001b[32m----> \u001b[39m\u001b[32m5\u001b[39m train_ds = \u001b[43mtf\u001b[49m\u001b[43m.\u001b[49m\u001b[43mkeras\u001b[49m\u001b[43m.\u001b[49m\u001b[43mutils\u001b[49m\u001b[43m.\u001b[49m\u001b[43mimage_dataset_from_directory\u001b[49m\u001b[43m(\u001b[49m\n\u001b[32m      6\u001b[39m \u001b[43m    \u001b[49m\u001b[33;43m\"\u001b[39;49m\u001b[33;43mships32\u001b[39;49m\u001b[33;43m\"\u001b[39;49m\u001b[43m,\u001b[49m\u001b[43m \u001b[49m\u001b[43mvalidation_split\u001b[49m\u001b[43m=\u001b[49m\u001b[32;43m0.15\u001b[39;49m\u001b[43m,\u001b[49m\u001b[43m \u001b[49m\u001b[43msubset\u001b[49m\u001b[43m=\u001b[49m\u001b[33;43m\"\u001b[39;49m\u001b[33;43mtraining\u001b[39;49m\u001b[33;43m\"\u001b[39;49m\u001b[43m,\u001b[49m\n\u001b[32m      7\u001b[39m \u001b[43m    \u001b[49m\u001b[43mseed\u001b[49m\u001b[43m=\u001b[49m\u001b[32;43m42\u001b[39;49m\u001b[43m,\u001b[49m\u001b[43m \u001b[49m\u001b[43mlabel_mode\u001b[49m\u001b[43m=\u001b[49m\u001b[33;43m\"\u001b[39;49m\u001b[33;43mint\u001b[39;49m\u001b[33;43m\"\u001b[39;49m\u001b[43m,\u001b[49m\u001b[43m \u001b[49m\u001b[43mimage_size\u001b[49m\u001b[43m=\u001b[49m\u001b[43m(\u001b[49m\u001b[32;43m32\u001b[39;49m\u001b[43m,\u001b[49m\u001b[43m \u001b[49m\u001b[32;43m32\u001b[39;49m\u001b[43m)\u001b[49m\u001b[43m,\u001b[49m\u001b[43m \u001b[49m\u001b[43mbatch_size\u001b[49m\u001b[43m=\u001b[49m\u001b[32;43m256\u001b[39;49m\u001b[43m)\u001b[49m\n\u001b[32m      8\u001b[39m val_ds = tf.keras.utils.image_dataset_from_directory(\n\u001b[32m      9\u001b[39m     \u001b[33m\"\u001b[39m\u001b[33mships32\u001b[39m\u001b[33m\"\u001b[39m, validation_split=\u001b[32m0.15\u001b[39m, subset=\u001b[33m\"\u001b[39m\u001b[33mvalidation\u001b[39m\u001b[33m\"\u001b[39m,\n\u001b[32m     10\u001b[39m     seed=\u001b[32m42\u001b[39m, label_mode=\u001b[33m\"\u001b[39m\u001b[33mint\u001b[39m\u001b[33m\"\u001b[39m, image_size=(\u001b[32m32\u001b[39m, \u001b[32m32\u001b[39m), batch_size=\u001b[32m256\u001b[39m)\n\u001b[32m     12\u001b[39m aug = tf.keras.Sequential([\n\u001b[32m     13\u001b[39m     layers.RandomFlip(\u001b[33m\"\u001b[39m\u001b[33mhorizontal\u001b[39m\u001b[33m\"\u001b[39m),\n\u001b[32m     14\u001b[39m     layers.RandomRotation(\u001b[32m0.1\u001b[39m),\n\u001b[32m     15\u001b[39m     layers.RandomZoom(\u001b[32m0.1\u001b[39m),\n\u001b[32m     16\u001b[39m     layers.RandomContrast(\u001b[32m0.1\u001b[39m)\n\u001b[32m     17\u001b[39m ])\n",
      "\u001b[36mFile \u001b[39m\u001b[32m~/.miniconda3/lib/python3.11/site-packages/keras/src/utils/image_dataset.py:213\u001b[39m, in \u001b[36mimage_dataset_from_directory\u001b[39m\u001b[34m(directory, labels, label_mode, class_names, color_mode, batch_size, image_size, shuffle, seed, validation_split, subset, interpolation, follow_links, crop_to_aspect_ratio, **kwargs)\u001b[39m\n\u001b[32m    211\u001b[39m \u001b[38;5;28;01mif\u001b[39;00m seed \u001b[38;5;129;01mis\u001b[39;00m \u001b[38;5;28;01mNone\u001b[39;00m:\n\u001b[32m    212\u001b[39m     seed = np.random.randint(\u001b[32m1e6\u001b[39m)\n\u001b[32m--> \u001b[39m\u001b[32m213\u001b[39m image_paths, labels, class_names = \u001b[43mdataset_utils\u001b[49m\u001b[43m.\u001b[49m\u001b[43mindex_directory\u001b[49m\u001b[43m(\u001b[49m\n\u001b[32m    214\u001b[39m \u001b[43m    \u001b[49m\u001b[43mdirectory\u001b[49m\u001b[43m,\u001b[49m\n\u001b[32m    215\u001b[39m \u001b[43m    \u001b[49m\u001b[43mlabels\u001b[49m\u001b[43m,\u001b[49m\n\u001b[32m    216\u001b[39m \u001b[43m    \u001b[49m\u001b[43mformats\u001b[49m\u001b[43m=\u001b[49m\u001b[43mALLOWLIST_FORMATS\u001b[49m\u001b[43m,\u001b[49m\n\u001b[32m    217\u001b[39m \u001b[43m    \u001b[49m\u001b[43mclass_names\u001b[49m\u001b[43m=\u001b[49m\u001b[43mclass_names\u001b[49m\u001b[43m,\u001b[49m\n\u001b[32m    218\u001b[39m \u001b[43m    \u001b[49m\u001b[43mshuffle\u001b[49m\u001b[43m=\u001b[49m\u001b[43mshuffle\u001b[49m\u001b[43m,\u001b[49m\n\u001b[32m    219\u001b[39m \u001b[43m    \u001b[49m\u001b[43mseed\u001b[49m\u001b[43m=\u001b[49m\u001b[43mseed\u001b[49m\u001b[43m,\u001b[49m\n\u001b[32m    220\u001b[39m \u001b[43m    \u001b[49m\u001b[43mfollow_links\u001b[49m\u001b[43m=\u001b[49m\u001b[43mfollow_links\u001b[49m\u001b[43m,\u001b[49m\n\u001b[32m    221\u001b[39m \u001b[43m\u001b[49m\u001b[43m)\u001b[49m\n\u001b[32m    223\u001b[39m \u001b[38;5;28;01mif\u001b[39;00m label_mode == \u001b[33m\"\u001b[39m\u001b[33mbinary\u001b[39m\u001b[33m\"\u001b[39m \u001b[38;5;129;01mand\u001b[39;00m \u001b[38;5;28mlen\u001b[39m(class_names) != \u001b[32m2\u001b[39m:\n\u001b[32m    224\u001b[39m     \u001b[38;5;28;01mraise\u001b[39;00m \u001b[38;5;167;01mValueError\u001b[39;00m(\n\u001b[32m    225\u001b[39m         \u001b[33m'\u001b[39m\u001b[33mWhen passing `label_mode=\u001b[39m\u001b[33m\"\u001b[39m\u001b[33mbinary\u001b[39m\u001b[33m\"\u001b[39m\u001b[33m`, there must be exactly 2 \u001b[39m\u001b[33m'\u001b[39m\n\u001b[32m    226\u001b[39m         \u001b[33mf\u001b[39m\u001b[33m\"\u001b[39m\u001b[33mclass_names. Received: class_names=\u001b[39m\u001b[38;5;132;01m{\u001b[39;00mclass_names\u001b[38;5;132;01m}\u001b[39;00m\u001b[33m\"\u001b[39m\n\u001b[32m    227\u001b[39m     )\n",
      "\u001b[36mFile \u001b[39m\u001b[32m~/.miniconda3/lib/python3.11/site-packages/keras/src/utils/dataset_utils.py:542\u001b[39m, in \u001b[36mindex_directory\u001b[39m\u001b[34m(directory, labels, formats, class_names, shuffle, seed, follow_links)\u001b[39m\n\u001b[32m    540\u001b[39m \u001b[38;5;28;01melse\u001b[39;00m:\n\u001b[32m    541\u001b[39m     subdirs = []\n\u001b[32m--> \u001b[39m\u001b[32m542\u001b[39m     \u001b[38;5;28;01mfor\u001b[39;00m subdir \u001b[38;5;129;01min\u001b[39;00m \u001b[38;5;28msorted\u001b[39m(\u001b[43mtf\u001b[49m\u001b[43m.\u001b[49m\u001b[43mio\u001b[49m\u001b[43m.\u001b[49m\u001b[43mgfile\u001b[49m\u001b[43m.\u001b[49m\u001b[43mlistdir\u001b[49m\u001b[43m(\u001b[49m\u001b[43mdirectory\u001b[49m\u001b[43m)\u001b[49m):\n\u001b[32m    543\u001b[39m         \u001b[38;5;28;01mif\u001b[39;00m tf.io.gfile.isdir(tf.io.gfile.join(directory, subdir)):\n\u001b[32m    544\u001b[39m             \u001b[38;5;28;01mif\u001b[39;00m \u001b[38;5;129;01mnot\u001b[39;00m subdir.startswith(\u001b[33m\"\u001b[39m\u001b[33m.\u001b[39m\u001b[33m\"\u001b[39m):\n",
      "\u001b[36mFile \u001b[39m\u001b[32m~/.miniconda3/lib/python3.11/site-packages/tensorflow/python/lib/io/file_io.py:768\u001b[39m, in \u001b[36mlist_directory_v2\u001b[39m\u001b[34m(path)\u001b[39m\n\u001b[32m    753\u001b[39m \u001b[38;5;250m\u001b[39m\u001b[33;03m\"\"\"Returns a list of entries contained within a directory.\u001b[39;00m\n\u001b[32m    754\u001b[39m \n\u001b[32m    755\u001b[39m \u001b[33;03mThe list is in arbitrary order. It does not contain the special entries \".\"\u001b[39;00m\n\u001b[32m   (...)\u001b[39m\u001b[32m    765\u001b[39m \u001b[33;03m  errors.NotFoundError if directory doesn't exist\u001b[39;00m\n\u001b[32m    766\u001b[39m \u001b[33;03m\"\"\"\u001b[39;00m\n\u001b[32m    767\u001b[39m \u001b[38;5;28;01mif\u001b[39;00m \u001b[38;5;129;01mnot\u001b[39;00m is_directory(path):\n\u001b[32m--> \u001b[39m\u001b[32m768\u001b[39m   \u001b[38;5;28;01mraise\u001b[39;00m errors.NotFoundError(\n\u001b[32m    769\u001b[39m       node_def=\u001b[38;5;28;01mNone\u001b[39;00m,\n\u001b[32m    770\u001b[39m       op=\u001b[38;5;28;01mNone\u001b[39;00m,\n\u001b[32m    771\u001b[39m       message=\u001b[33m\"\u001b[39m\u001b[33mCould not find directory \u001b[39m\u001b[38;5;132;01m{}\u001b[39;00m\u001b[33m\"\u001b[39m.format(path))\n\u001b[32m    773\u001b[39m \u001b[38;5;66;03m# Convert each element to string, since the return values of the\u001b[39;00m\n\u001b[32m    774\u001b[39m \u001b[38;5;66;03m# vector of string should be interpreted as strings, not bytes.\u001b[39;00m\n\u001b[32m    775\u001b[39m \u001b[38;5;28;01mreturn\u001b[39;00m [\n\u001b[32m    776\u001b[39m     compat.as_str_any(filename)\n\u001b[32m    777\u001b[39m     \u001b[38;5;28;01mfor\u001b[39;00m filename \u001b[38;5;129;01min\u001b[39;00m _pywrap_file_io.GetChildren(compat.path_to_bytes(path))\n\u001b[32m    778\u001b[39m ]\n",
      "\u001b[31mNotFoundError\u001b[39m: Could not find directory ships32"
     ]
    }
   ],
   "source": []
  },
  {
   "cell_type": "code",
   "execution_count": 11,
   "metadata": {},
   "outputs": [
    {
     "name": "stdout",
     "output_type": "stream",
     "text": [
      "/workspace\n"
     ]
    }
   ],
   "source": [
    "%cd /workspace"
   ]
  },
  {
   "cell_type": "code",
   "execution_count": 12,
   "metadata": {},
   "outputs": [
    {
     "name": "stdout",
     "output_type": "stream",
     "text": [
      "cwd: /workspace\n",
      "dirs: ['rayan.py', '.config', '.bashrc', 'ships.tgz', 'rayan.ipynb', '.bash_profile', '.local', 'ships_competition.npz', 'ships32', '.bash_history', 'amine', '.keras', '.cache', 'wget-log', '.conda', '.workspace.initialized', '.ipython', 'wget-log.1', 'ai-training-examples', '.nv', '.ssh', '.miniconda3']\n"
     ]
    }
   ],
   "source": [
    "import os\n",
    "print(\"cwd:\", os.getcwd())\n",
    "print(\"dirs:\", os.listdir())\n"
   ]
  },
  {
   "cell_type": "code",
   "execution_count": 13,
   "metadata": {},
   "outputs": [
    {
     "name": "stdout",
     "output_type": "stream",
     "text": [
      "Found 48330 files belonging to 13 classes.\n",
      "Using 41081 files for training.\n",
      "Found 48330 files belonging to 13 classes.\n",
      "Using 7249 files for validation.\n"
     ]
    }
   ],
   "source": [
    "import tensorflow as tf, numpy as np, pandas as pd\n",
    "from tensorflow.keras import layers, models, callbacks, mixed_precision\n",
    "\n",
    "# ---------- data ----------\n",
    "train_ds = tf.keras.utils.image_dataset_from_directory(\n",
    "    \"ships32\", validation_split=0.15, subset=\"training\",\n",
    "    seed=42, label_mode=\"int\", image_size=(32, 32), batch_size=256)\n",
    "val_ds = tf.keras.utils.image_dataset_from_directory(\n",
    "    \"ships32\", validation_split=0.15, subset=\"validation\",\n",
    "    seed=42, label_mode=\"int\", image_size=(32, 32), batch_size=256)\n",
    "\n",
    "aug = tf.keras.Sequential([\n",
    "    layers.RandomFlip(\"horizontal\"),\n",
    "    layers.RandomRotation(0.1),\n",
    "    layers.RandomZoom(0.1),\n",
    "    layers.RandomContrast(0.1)\n",
    "])\n",
    "\n",
    "AUTOTUNE = tf.data.AUTOTUNE\n",
    "train_ds = train_ds.map(lambda x, y: (aug(x) / 255., y), num_parallel_calls=AUTOTUNE).prefetch(AUTOTUNE)\n",
    "val_ds   = val_ds.map(lambda x, y: (x / 255., y),     num_parallel_calls=AUTOTUNE).prefetch(AUTOTUNE)"
   ]
  },
  {
   "cell_type": "code",
   "execution_count": 14,
   "metadata": {},
   "outputs": [
    {
     "name": "stdout",
     "output_type": "stream",
     "text": [
      "Nombre de couches : 28\n",
      "Epoch 1/100\n"
     ]
    },
    {
     "name": "stderr",
     "output_type": "stream",
     "text": [
      "WARNING: All log messages before absl::InitializeLog() is called are written to STDERR\n",
      "I0000 00:00:1745019774.793002   53776 device_compiler.h:186] Compiled cluster using XLA!  This line is logged at most once for the lifetime of the process.\n"
     ]
    },
    {
     "name": "stdout",
     "output_type": "stream",
     "text": [
      "161/161 [==============================] - 13s 25ms/step - loss: 1.8421 - accuracy: 0.3900 - val_loss: 3.3628 - val_accuracy: 0.1248 - lr: 0.0030\n",
      "Epoch 2/100\n",
      "161/161 [==============================] - 3s 15ms/step - loss: 1.3266 - accuracy: 0.5512 - val_loss: 4.0510 - val_accuracy: 0.3526 - lr: 0.0030\n",
      "Epoch 3/100\n",
      "161/161 [==============================] - 2s 14ms/step - loss: 1.1427 - accuracy: 0.6119 - val_loss: 1.4319 - val_accuracy: 0.5624 - lr: 0.0030\n",
      "Epoch 4/100\n",
      "161/161 [==============================] - 2s 14ms/step - loss: 1.0472 - accuracy: 0.6432 - val_loss: 1.3608 - val_accuracy: 0.5398 - lr: 0.0030\n",
      "Epoch 5/100\n",
      "161/161 [==============================] - 2s 14ms/step - loss: 0.9810 - accuracy: 0.6638 - val_loss: 1.4103 - val_accuracy: 0.5751 - lr: 0.0030\n",
      "Epoch 6/100\n",
      "161/161 [==============================] - 2s 14ms/step - loss: 0.9247 - accuracy: 0.6808 - val_loss: 1.1698 - val_accuracy: 0.6148 - lr: 0.0030\n",
      "Epoch 7/100\n",
      "161/161 [==============================] - 2s 14ms/step - loss: 0.8799 - accuracy: 0.6963 - val_loss: 1.0509 - val_accuracy: 0.6500 - lr: 0.0030\n",
      "Epoch 8/100\n",
      "161/161 [==============================] - 2s 14ms/step - loss: 0.8415 - accuracy: 0.7103 - val_loss: 1.0583 - val_accuracy: 0.6478 - lr: 0.0030\n",
      "Epoch 9/100\n",
      "161/161 [==============================] - 2s 14ms/step - loss: 0.8189 - accuracy: 0.7162 - val_loss: 0.9761 - val_accuracy: 0.6739 - lr: 0.0030\n",
      "Epoch 10/100\n",
      "161/161 [==============================] - 2s 14ms/step - loss: 0.7876 - accuracy: 0.7272 - val_loss: 1.0087 - val_accuracy: 0.6704 - lr: 0.0030\n",
      "Epoch 11/100\n",
      "161/161 [==============================] - 2s 14ms/step - loss: 0.7635 - accuracy: 0.7346 - val_loss: 1.1750 - val_accuracy: 0.6255 - lr: 0.0030\n",
      "Epoch 12/100\n",
      "161/161 [==============================] - 2s 14ms/step - loss: 0.7394 - accuracy: 0.7427 - val_loss: 1.1660 - val_accuracy: 0.6361 - lr: 0.0030\n",
      "Epoch 13/100\n",
      "157/161 [============================>.] - ETA: 0s - loss: 0.7281 - accuracy: 0.7461\n",
      "Epoch 13: ReduceLROnPlateau reducing learning rate to 0.001500000013038516.\n",
      "161/161 [==============================] - 2s 14ms/step - loss: 0.7286 - accuracy: 0.7459 - val_loss: 1.0001 - val_accuracy: 0.6651 - lr: 0.0030\n",
      "Epoch 14/100\n",
      "161/161 [==============================] - 3s 15ms/step - loss: 0.6462 - accuracy: 0.7725 - val_loss: 0.9505 - val_accuracy: 0.6811 - lr: 0.0015\n",
      "Epoch 15/100\n",
      "161/161 [==============================] - 3s 16ms/step - loss: 0.6318 - accuracy: 0.7783 - val_loss: 0.7897 - val_accuracy: 0.7288 - lr: 0.0015\n",
      "Epoch 16/100\n",
      "161/161 [==============================] - 2s 13ms/step - loss: 0.6092 - accuracy: 0.7856 - val_loss: 1.0421 - val_accuracy: 0.6751 - lr: 0.0015\n",
      "Epoch 17/100\n",
      "161/161 [==============================] - 2s 14ms/step - loss: 0.5993 - accuracy: 0.7873 - val_loss: 0.8772 - val_accuracy: 0.7060 - lr: 0.0015\n",
      "Epoch 18/100\n",
      "161/161 [==============================] - 2s 14ms/step - loss: 0.5846 - accuracy: 0.7930 - val_loss: 0.9241 - val_accuracy: 0.7008 - lr: 0.0015\n",
      "Epoch 19/100\n",
      "160/161 [============================>.] - ETA: 0s - loss: 0.5796 - accuracy: 0.7955\n",
      "Epoch 19: ReduceLROnPlateau reducing learning rate to 0.000750000006519258.\n",
      "161/161 [==============================] - 2s 14ms/step - loss: 0.5795 - accuracy: 0.7955 - val_loss: 0.8707 - val_accuracy: 0.7168 - lr: 0.0015\n",
      "Epoch 20/100\n",
      "161/161 [==============================] - 2s 13ms/step - loss: 0.5322 - accuracy: 0.8107 - val_loss: 0.7841 - val_accuracy: 0.7420 - lr: 7.5000e-04\n",
      "Epoch 21/100\n",
      "161/161 [==============================] - 2s 14ms/step - loss: 0.5160 - accuracy: 0.8154 - val_loss: 0.7402 - val_accuracy: 0.7550 - lr: 7.5000e-04\n",
      "Epoch 22/100\n",
      "161/161 [==============================] - 2s 14ms/step - loss: 0.5104 - accuracy: 0.8190 - val_loss: 0.8461 - val_accuracy: 0.7346 - lr: 7.5000e-04\n",
      "Epoch 23/100\n",
      "161/161 [==============================] - 2s 13ms/step - loss: 0.5000 - accuracy: 0.8219 - val_loss: 0.8002 - val_accuracy: 0.7418 - lr: 7.5000e-04\n",
      "Epoch 24/100\n",
      "161/161 [==============================] - 2s 13ms/step - loss: 0.4934 - accuracy: 0.8226 - val_loss: 0.7929 - val_accuracy: 0.7528 - lr: 7.5000e-04\n",
      "Epoch 25/100\n",
      "159/161 [============================>.] - ETA: 0s - loss: 0.4870 - accuracy: 0.8257\n",
      "Epoch 25: ReduceLROnPlateau reducing learning rate to 0.000375000003259629.\n",
      "161/161 [==============================] - 2s 14ms/step - loss: 0.4866 - accuracy: 0.8257 - val_loss: 0.8427 - val_accuracy: 0.7424 - lr: 7.5000e-04\n",
      "Epoch 26/100\n",
      "161/161 [==============================] - 2s 12ms/step - loss: 0.4629 - accuracy: 0.8331 - val_loss: 0.7326 - val_accuracy: 0.7624 - lr: 3.7500e-04\n",
      "Epoch 27/100\n",
      "161/161 [==============================] - 2s 13ms/step - loss: 0.4565 - accuracy: 0.8377 - val_loss: 0.7510 - val_accuracy: 0.7579 - lr: 3.7500e-04\n",
      "Epoch 28/100\n",
      "161/161 [==============================] - 2s 13ms/step - loss: 0.4468 - accuracy: 0.8398 - val_loss: 0.7759 - val_accuracy: 0.7517 - lr: 3.7500e-04\n",
      "Epoch 29/100\n",
      "161/161 [==============================] - 2s 14ms/step - loss: 0.4408 - accuracy: 0.8418 - val_loss: 0.7386 - val_accuracy: 0.7600 - lr: 3.7500e-04\n",
      "Epoch 30/100\n",
      "160/161 [============================>.] - ETA: 0s - loss: 0.4426 - accuracy: 0.8419\n",
      "Epoch 30: ReduceLROnPlateau reducing learning rate to 0.0001875000016298145.\n",
      "161/161 [==============================] - 2s 14ms/step - loss: 0.4429 - accuracy: 0.8417 - val_loss: 0.7762 - val_accuracy: 0.7502 - lr: 3.7500e-04\n",
      "Epoch 31/100\n",
      "161/161 [==============================] - 2s 13ms/step - loss: 0.4274 - accuracy: 0.8464 - val_loss: 0.7343 - val_accuracy: 0.7633 - lr: 1.8750e-04\n",
      "Epoch 32/100\n",
      "161/161 [==============================] - 2s 14ms/step - loss: 0.4286 - accuracy: 0.8472 - val_loss: 0.7251 - val_accuracy: 0.7649 - lr: 1.8750e-04\n",
      "Epoch 33/100\n",
      "161/161 [==============================] - 2s 13ms/step - loss: 0.4189 - accuracy: 0.8498 - val_loss: 0.7375 - val_accuracy: 0.7624 - lr: 1.8750e-04\n",
      "Epoch 34/100\n",
      "161/161 [==============================] - 2s 13ms/step - loss: 0.4164 - accuracy: 0.8503 - val_loss: 0.7318 - val_accuracy: 0.7651 - lr: 1.8750e-04\n",
      "Epoch 35/100\n",
      "161/161 [==============================] - 2s 14ms/step - loss: 0.4111 - accuracy: 0.8520 - val_loss: 0.7434 - val_accuracy: 0.7620 - lr: 1.8750e-04\n",
      "Epoch 36/100\n",
      "158/161 [============================>.] - ETA: 0s - loss: 0.4131 - accuracy: 0.8509\n",
      "Epoch 36: ReduceLROnPlateau reducing learning rate to 9.375000081490725e-05.\n",
      "161/161 [==============================] - 2s 14ms/step - loss: 0.4128 - accuracy: 0.8510 - val_loss: 0.7374 - val_accuracy: 0.7622 - lr: 1.8750e-04\n",
      "Epoch 37/100\n",
      "161/161 [==============================] - 2s 14ms/step - loss: 0.4025 - accuracy: 0.8535 - val_loss: 0.7287 - val_accuracy: 0.7651 - lr: 9.3750e-05\n",
      "Epoch 38/100\n",
      "161/161 [==============================] - 3s 17ms/step - loss: 0.4015 - accuracy: 0.8550 - val_loss: 0.7247 - val_accuracy: 0.7671 - lr: 9.3750e-05\n",
      "Epoch 39/100\n",
      "161/161 [==============================] - 2s 14ms/step - loss: 0.4001 - accuracy: 0.8575 - val_loss: 0.7323 - val_accuracy: 0.7652 - lr: 9.3750e-05\n",
      "Epoch 40/100\n",
      "161/161 [==============================] - 2s 13ms/step - loss: 0.3993 - accuracy: 0.8564 - val_loss: 0.7293 - val_accuracy: 0.7638 - lr: 9.3750e-05\n",
      "Epoch 41/100\n",
      "161/161 [==============================] - 2s 13ms/step - loss: 0.3978 - accuracy: 0.8558 - val_loss: 0.7427 - val_accuracy: 0.7624 - lr: 9.3750e-05\n",
      "Epoch 42/100\n",
      "158/161 [============================>.] - ETA: 0s - loss: 0.3953 - accuracy: 0.8582\n",
      "Epoch 42: ReduceLROnPlateau reducing learning rate to 4.6875000407453626e-05.\n",
      "161/161 [==============================] - 2s 13ms/step - loss: 0.3945 - accuracy: 0.8584 - val_loss: 0.7299 - val_accuracy: 0.7642 - lr: 9.3750e-05\n",
      "Epoch 43/100\n",
      "161/161 [==============================] - 3s 15ms/step - loss: 0.3953 - accuracy: 0.8569 - val_loss: 0.7259 - val_accuracy: 0.7651 - lr: 4.6875e-05\n",
      "Epoch 44/100\n",
      "161/161 [==============================] - 2s 14ms/step - loss: 0.3920 - accuracy: 0.8584 - val_loss: 0.7214 - val_accuracy: 0.7656 - lr: 4.6875e-05\n",
      "Epoch 45/100\n",
      "161/161 [==============================] - 2s 13ms/step - loss: 0.3880 - accuracy: 0.8604 - val_loss: 0.7271 - val_accuracy: 0.7665 - lr: 4.6875e-05\n",
      "Epoch 46/100\n",
      "161/161 [==============================] - 2s 13ms/step - loss: 0.3933 - accuracy: 0.8574 - val_loss: 0.7260 - val_accuracy: 0.7662 - lr: 4.6875e-05\n",
      "Epoch 47/100\n",
      "161/161 [==============================] - 2s 14ms/step - loss: 0.3854 - accuracy: 0.8614 - val_loss: 0.7301 - val_accuracy: 0.7663 - lr: 4.6875e-05\n",
      "Epoch 48/100\n",
      "161/161 [==============================] - ETA: 0s - loss: 0.3882 - accuracy: 0.8596\n",
      "Epoch 48: ReduceLROnPlateau reducing learning rate to 2.3437500203726813e-05.\n",
      "161/161 [==============================] - 2s 14ms/step - loss: 0.3882 - accuracy: 0.8596 - val_loss: 0.7235 - val_accuracy: 0.7681 - lr: 4.6875e-05\n",
      "Epoch 49/100\n",
      "161/161 [==============================] - 2s 14ms/step - loss: 0.3905 - accuracy: 0.8586 - val_loss: 0.7212 - val_accuracy: 0.7677 - lr: 2.3438e-05\n",
      "Epoch 50/100\n",
      "161/161 [==============================] - 2s 12ms/step - loss: 0.3858 - accuracy: 0.8599 - val_loss: 0.7261 - val_accuracy: 0.7681 - lr: 2.3438e-05\n",
      "Epoch 51/100\n",
      "161/161 [==============================] - 2s 13ms/step - loss: 0.3873 - accuracy: 0.8605 - val_loss: 0.7243 - val_accuracy: 0.7687 - lr: 2.3438e-05\n",
      "Epoch 52/100\n",
      "161/161 [==============================] - 2s 13ms/step - loss: 0.3868 - accuracy: 0.8603 - val_loss: 0.7247 - val_accuracy: 0.7684 - lr: 2.3438e-05\n",
      "Epoch 53/100\n",
      "159/161 [============================>.] - ETA: 0s - loss: 0.3821 - accuracy: 0.8611\n",
      "Epoch 53: ReduceLROnPlateau reducing learning rate to 1.1718750101863407e-05.\n",
      "161/161 [==============================] - 2s 13ms/step - loss: 0.3820 - accuracy: 0.8612 - val_loss: 0.7239 - val_accuracy: 0.7693 - lr: 2.3438e-05\n",
      "Epoch 54/100\n",
      "161/161 [==============================] - 2s 13ms/step - loss: 0.3829 - accuracy: 0.8600 - val_loss: 0.7204 - val_accuracy: 0.7688 - lr: 1.1719e-05\n",
      "Epoch 55/100\n",
      "161/161 [==============================] - 2s 14ms/step - loss: 0.3820 - accuracy: 0.8620 - val_loss: 0.7225 - val_accuracy: 0.7703 - lr: 1.1719e-05\n",
      "Epoch 56/100\n",
      "161/161 [==============================] - 2s 14ms/step - loss: 0.3799 - accuracy: 0.8627 - val_loss: 0.7257 - val_accuracy: 0.7696 - lr: 1.1719e-05\n",
      "Epoch 57/100\n",
      "161/161 [==============================] - 2s 14ms/step - loss: 0.3843 - accuracy: 0.8637 - val_loss: 0.7210 - val_accuracy: 0.7702 - lr: 1.1719e-05\n",
      "Epoch 58/100\n",
      "157/161 [============================>.] - ETA: 0s - loss: 0.3852 - accuracy: 0.8608\n",
      "Epoch 58: ReduceLROnPlateau reducing learning rate to 5.859375050931703e-06.\n",
      "161/161 [==============================] - 2s 14ms/step - loss: 0.3852 - accuracy: 0.8609 - val_loss: 0.7243 - val_accuracy: 0.7695 - lr: 1.1719e-05\n",
      "Epoch 59/100\n",
      "161/161 [==============================] - 2s 14ms/step - loss: 0.3797 - accuracy: 0.8641 - val_loss: 0.7244 - val_accuracy: 0.7698 - lr: 5.8594e-06\n",
      "Epoch 60/100\n",
      "161/161 [==============================] - 2s 13ms/step - loss: 0.3817 - accuracy: 0.8611 - val_loss: 0.7263 - val_accuracy: 0.7689 - lr: 5.8594e-06\n",
      "Epoch 61/100\n",
      "161/161 [==============================] - 2s 13ms/step - loss: 0.3828 - accuracy: 0.8616 - val_loss: 0.7247 - val_accuracy: 0.7696 - lr: 5.8594e-06\n",
      "Epoch 62/100\n",
      "158/161 [============================>.] - ETA: 0s - loss: 0.3852 - accuracy: 0.8627\n",
      "Epoch 62: ReduceLROnPlateau reducing learning rate to 2.9296875254658516e-06.\n",
      "161/161 [==============================] - 2s 14ms/step - loss: 0.3855 - accuracy: 0.8627 - val_loss: 0.7227 - val_accuracy: 0.7706 - lr: 5.8594e-06\n",
      "Epoch 63/100\n",
      "161/161 [==============================] - 2s 14ms/step - loss: 0.3819 - accuracy: 0.8635 - val_loss: 0.7242 - val_accuracy: 0.7692 - lr: 2.9297e-06\n",
      "Epoch 64/100\n",
      "161/161 [==============================] - 2s 13ms/step - loss: 0.3891 - accuracy: 0.8596 - val_loss: 0.7240 - val_accuracy: 0.7692 - lr: 2.9297e-06\n"
     ]
    },
    {
     "data": {
      "text/plain": [
       "<keras.src.callbacks.History at 0x7fcd39fd7750>"
      ]
     },
     "execution_count": 14,
     "metadata": {},
     "output_type": "execute_result"
    }
   ],
   "source": [
    "\n",
    "\n",
    "# ---------- model (<30 layers) ----------\n",
    "mixed_precision.set_global_policy('mixed_float16')\n",
    "\n",
    "def block(x, f):\n",
    "    x = layers.Conv2D(f, 3, padding='same', use_bias=False)(x)\n",
    "    x = layers.BatchNormalization()(x)\n",
    "    x = layers.ReLU()(x)              # ← changement ici\n",
    "    return x\n",
    "\n",
    "inp = layers.Input((32, 32, 3))\n",
    "x = block(inp, 32);  x = block(x, 32);  x = layers.MaxPool2D()(x)\n",
    "x = block(x, 64);   x = block(x, 64);   x = layers.MaxPool2D()(x)\n",
    "x = block(x, 128);  x = block(x, 128);  x = layers.MaxPool2D()(x)\n",
    "x = block(x, 256)\n",
    "x = layers.GlobalAveragePooling2D()(x)\n",
    "x = layers.Dropout(0.25)(x)\n",
    "out = layers.Dense(13, activation='softmax', dtype='float32')(x)\n",
    "\n",
    "model = models.Model(inp, out)\n",
    "print(\"Nombre de couches :\", len(model.layers))  # 28\n",
    "\n",
    "model.compile(\n",
    "    optimizer=tf.keras.optimizers.Adam(3e-3),\n",
    "    loss='sparse_categorical_crossentropy',\n",
    "    metrics=['accuracy']\n",
    ")\n",
    "\n",
    "cbs = [\n",
    "    callbacks.EarlyStopping(patience=10, restore_best_weights=True),\n",
    "    callbacks.ReduceLROnPlateau(factor=0.5, patience=4, verbose=1)\n",
    "]\n",
    "\n",
    "\n",
    "model.fit(train_ds, epochs=100, validation_data=val_ds, callbacks=cbs)\n",
    "\n",
    "\n"
   ]
  },
  {
   "cell_type": "code",
   "execution_count": 15,
   "metadata": {},
   "outputs": [
    {
     "name": "stdout",
     "output_type": "stream",
     "text": [
      "4/4 [==============================] - 1s 100ms/step\n"
     ]
    }
   ],
   "source": [
    "# ---------- submission ----------\n",
    "comp = np.load('ships_competition.npz')['X'] / 255.\n",
    "pred = model.predict(comp, batch_size=512).argmax(1)\n",
    "pd.DataFrame({'ID': np.arange(len(pred)), 'Category': pred}).to_csv('ships_competition.csv', index=False)"
   ]
  }
 ],
 "metadata": {
  "kernelspec": {
   "display_name": "base",
   "language": "python",
   "name": "python3"
  },
  "language_info": {
   "codemirror_mode": {
    "name": "ipython",
    "version": 3
   },
   "file_extension": ".py",
   "mimetype": "text/x-python",
   "name": "python",
   "nbconvert_exporter": "python",
   "pygments_lexer": "ipython3",
   "version": "3.11.4"
  },
  "orig_nbformat": 4
 },
 "nbformat": 4,
 "nbformat_minor": 2
}
